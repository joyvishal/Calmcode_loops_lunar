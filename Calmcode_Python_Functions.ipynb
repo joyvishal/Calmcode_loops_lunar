{
  "nbformat": 4,
  "nbformat_minor": 0,
  "metadata": {
    "colab": {
      "provenance": []
    },
    "kernelspec": {
      "name": "python3",
      "display_name": "Python 3"
    },
    "language_info": {
      "name": "python"
    }
  },
  "cells": [
    {
      "cell_type": "markdown",
      "source": [
        "# **Python functions Course**"
      ],
      "metadata": {
        "id": "16xHxImd9VGI"
      }
    },
    {
      "cell_type": "code",
      "source": [
        "def multiply(a, b, c):\n",
        "  return a*b*c\n",
        "\n",
        "multiply(4,2,1)"
      ],
      "metadata": {
        "colab": {
          "base_uri": "https://localhost:8080/"
        },
        "id": "tWtOm52t8ePm",
        "outputId": "3033fb08-cfa3-405e-c55d-8d09796b5870"
      },
      "execution_count": null,
      "outputs": [
        {
          "output_type": "execute_result",
          "data": {
            "text/plain": [
              "8"
            ]
          },
          "metadata": {},
          "execution_count": 1
        }
      ]
    },
    {
      "cell_type": "code",
      "source": [
        "def multiply(a, b, c):\n",
        "  return a*b*c\n",
        "\n",
        "multiply(4,2)\n",
        "#  error is due to missing agruement c"
      ],
      "metadata": {
        "colab": {
          "base_uri": "https://localhost:8080/",
          "height": 227
        },
        "outputId": "0e4dd8e3-e626-4044-f873-094af03f1740",
        "id": "UDcJf8dB-LVK"
      },
      "execution_count": null,
      "outputs": [
        {
          "output_type": "error",
          "ename": "TypeError",
          "evalue": "multiply() missing 1 required positional argument: 'c'",
          "traceback": [
            "\u001b[0;31m---------------------------------------------------------------------------\u001b[0m",
            "\u001b[0;31mTypeError\u001b[0m                                 Traceback (most recent call last)",
            "\u001b[0;32m<ipython-input-2-8f5417fb357f>\u001b[0m in \u001b[0;36m<cell line: 4>\u001b[0;34m()\u001b[0m\n\u001b[1;32m      2\u001b[0m   \u001b[0;32mreturn\u001b[0m \u001b[0ma\u001b[0m\u001b[0;34m*\u001b[0m\u001b[0mb\u001b[0m\u001b[0;34m*\u001b[0m\u001b[0mc\u001b[0m\u001b[0;34m\u001b[0m\u001b[0;34m\u001b[0m\u001b[0m\n\u001b[1;32m      3\u001b[0m \u001b[0;34m\u001b[0m\u001b[0m\n\u001b[0;32m----> 4\u001b[0;31m \u001b[0mmultiply\u001b[0m\u001b[0;34m(\u001b[0m\u001b[0;36m4\u001b[0m\u001b[0;34m,\u001b[0m\u001b[0;36m2\u001b[0m\u001b[0;34m)\u001b[0m\u001b[0;34m\u001b[0m\u001b[0;34m\u001b[0m\u001b[0m\n\u001b[0m\u001b[1;32m      5\u001b[0m \u001b[0;31m#  error is due to missing agruement c\u001b[0m\u001b[0;34m\u001b[0m\u001b[0;34m\u001b[0m\u001b[0m\n",
            "\u001b[0;31mTypeError\u001b[0m: multiply() missing 1 required positional argument: 'c'"
          ]
        }
      ]
    },
    {
      "cell_type": "markdown",
      "source": [
        "*passing multiple arguments to a single\n",
        "python function*"
      ],
      "metadata": {
        "id": "96F0ayt265fa"
      }
    },
    {
      "cell_type": "markdown",
      "source": [
        "we can pass multiple arguments to a function via the star sytax like '*n'"
      ],
      "metadata": {
        "id": "4Zgd7e7p8R7f"
      }
    },
    {
      "cell_type": "code",
      "source": [
        "def multiply(*numbers):\n",
        "  print(numbers)\n",
        "  result = 1\n",
        "  for n in numbers:\n",
        "        result = result * n\n",
        "  return result\n",
        "\n",
        "multiply(4,3,2)\n"
      ],
      "metadata": {
        "colab": {
          "base_uri": "https://localhost:8080/"
        },
        "id": "hDo4eOVk-P3-",
        "outputId": "8dc7c1fd-9fe8-4916-b0b4-bcf4772685c9"
      },
      "execution_count": null,
      "outputs": [
        {
          "output_type": "stream",
          "name": "stdout",
          "text": [
            "(4, 3, 2)\n"
          ]
        },
        {
          "output_type": "execute_result",
          "data": {
            "text/plain": [
              "24"
            ]
          },
          "metadata": {},
          "execution_count": 11
        }
      ]
    },
    {
      "cell_type": "code",
      "source": [
        "def multiply(*numbers):\n",
        "  print(numbers)\n",
        "  result = 1\n",
        "  for n in numbers:\n",
        "        result = result * n\n",
        "  return result\n",
        "\n",
        "multiply(5,1,2,6,8,4)"
      ],
      "metadata": {
        "colab": {
          "base_uri": "https://localhost:8080/"
        },
        "outputId": "6e25e602-e83a-4ae5-fa35-39f622d34428",
        "id": "DPPGi01v8IWd"
      },
      "execution_count": null,
      "outputs": [
        {
          "output_type": "stream",
          "name": "stdout",
          "text": [
            "(5, 1, 2, 6, 8, 4)\n"
          ]
        },
        {
          "output_type": "execute_result",
          "data": {
            "text/plain": [
              "1920"
            ]
          },
          "metadata": {},
          "execution_count": 12
        }
      ]
    },
    {
      "cell_type": "markdown",
      "source": [
        "What does '*args' refer to in this  example?"
      ],
      "metadata": {
        "id": "MxiBj2c-9GwP"
      }
    },
    {
      "cell_type": "markdown",
      "source": [
        "In this example, *args refers to the additional arguments that are passed to the function after the formal parameters a and b. In this case, *args is a tuple that contains (3,4, 6). The function prints the values of a and b, followed by the values of args."
      ],
      "metadata": {
        "id": "0fs0IbxT-wZN"
      }
    },
    {
      "cell_type": "code",
      "source": [
        "def function(a, b, *args):\n",
        "    print(a, b)\n",
        "    print(args)\n",
        "\n",
        "function(1,2,3,4,6)"
      ],
      "metadata": {
        "colab": {
          "base_uri": "https://localhost:8080/"
        },
        "id": "BkmOL1oo8oAu",
        "outputId": "d8c785f5-e91b-4ca9-a05e-586c1745c400"
      },
      "execution_count": null,
      "outputs": [
        {
          "output_type": "stream",
          "name": "stdout",
          "text": [
            "1 2\n",
            "(3, 4, 6)\n"
          ]
        }
      ]
    },
    {
      "cell_type": "code",
      "source": [
        "def function(a, b, *args):\n",
        "    print(a, b)\n",
        "    print(args)\n",
        "\n",
        "function(1,2,4,6)"
      ],
      "metadata": {
        "colab": {
          "base_uri": "https://localhost:8080/"
        },
        "outputId": "dba6ce87-0ba2-49e2-86cf-a8504576c86c",
        "id": "s6DEOD2y9e_K"
      },
      "execution_count": null,
      "outputs": [
        {
          "output_type": "stream",
          "name": "stdout",
          "text": [
            "1 2\n",
            "(4, 6)\n"
          ]
        }
      ]
    },
    {
      "cell_type": "markdown",
      "source": [
        "What does **kwargs refer to in this example ?"
      ],
      "metadata": {
        "id": "XPLunOF_AFsc"
      }
    },
    {
      "cell_type": "markdown",
      "source": [
        "In this example, **kwargs refers to the additional keyword arguments that are passed to the function after the formal parameters x, y, *args, and keyword. In this case, **kwargs is a dictionary that contains {‘param’: 105}. The function prints the values of x and y, followed by the values of args, keyword, and kwargs."
      ],
      "metadata": {
        "id": "szzO-qXlAOVS"
      }
    },
    {
      "cell_type": "code",
      "source": [
        "def function(x, y, *args, keyword=True, **kwargs):\n",
        "    print(x, y)\n",
        "    print(args)\n",
        "    print(keyword)\n",
        "    print(kwargs)\n",
        "function(1,2,3,4,7, param=105)"
      ],
      "metadata": {
        "colab": {
          "base_uri": "https://localhost:8080/"
        },
        "id": "lw72HkVF_c0k",
        "outputId": "6bfdb3a2-5007-43f5-f9f9-31762eb527a8"
      },
      "execution_count": null,
      "outputs": [
        {
          "output_type": "stream",
          "name": "stdout",
          "text": [
            "1 2\n",
            "(3, 4, 7)\n",
            "True\n",
            "{'param': 105}\n"
          ]
        }
      ]
    },
    {
      "cell_type": "markdown",
      "source": [
        "Why does the order of parameters cause errors in python?"
      ],
      "metadata": {
        "id": "o-8ZL45EBVff"
      }
    },
    {
      "cell_type": "code",
      "source": [
        "def function(a, b, *args, keyword=True, **kwargs):\n",
        "    print(a, b)\n",
        "    print(args)\n",
        "    print(keyword)\n",
        "    print(kwargs)\n"
      ],
      "metadata": {
        "id": "4fIJB1gpBZAN"
      },
      "execution_count": null,
      "outputs": []
    },
    {
      "cell_type": "markdown",
      "source": [
        "when we the call function(a=1, b=2, 5, 3, 4, param=42), Python encounters a problem. It first assigns the keyword arguments a=1 and b=2 to the corresponding parameters. But then, it sees a positional argument 5, which does not have a parameter name. Python does not know which parameter to assign this argument to, since the parameters a and b are already taken by the keyword arguments. This causes a syntax error, because we cannot mix positional and keyword arguments in this way."
      ],
      "metadata": {
        "id": "KEuW0Kl1Cj6M"
      }
    },
    {
      "cell_type": "code",
      "source": [
        "function(a=1, b=2, 5, 3, 4, param=42)\n"
      ],
      "metadata": {
        "colab": {
          "base_uri": "https://localhost:8080/",
          "height": 140
        },
        "id": "PUoX_9MrBcoD",
        "outputId": "0bcd49fc-d0a6-4144-c0e8-33b47fe88270"
      },
      "execution_count": null,
      "outputs": [
        {
          "output_type": "error",
          "ename": "SyntaxError",
          "evalue": "positional argument follows keyword argument (<ipython-input-20-5043c7759ed2>, line 1)",
          "traceback": [
            "\u001b[0;36m  File \u001b[0;32m\"<ipython-input-20-5043c7759ed2>\"\u001b[0;36m, line \u001b[0;32m1\u001b[0m\n\u001b[0;31m    function(a=1, b=2, 5, 3, 4, param=42)\u001b[0m\n\u001b[0m                                        ^\u001b[0m\n\u001b[0;31mSyntaxError\u001b[0m\u001b[0;31m:\u001b[0m positional argument follows keyword argument\n"
          ]
        }
      ]
    },
    {
      "cell_type": "code",
      "source": [
        "function(1, 2, 5, 3, 4, param=42)\n"
      ],
      "metadata": {
        "colab": {
          "base_uri": "https://localhost:8080/"
        },
        "id": "PwjKsxweBeUH",
        "outputId": "082ec949-aef3-4e86-f5b5-09f431b4f5af"
      },
      "execution_count": null,
      "outputs": [
        {
          "output_type": "stream",
          "name": "stdout",
          "text": [
            "1 2\n",
            "(5, 3, 4)\n",
            "True\n",
            "{'param': 42}\n"
          ]
        }
      ]
    },
    {
      "cell_type": "markdown",
      "source": [
        " variable unpacking python"
      ],
      "metadata": {
        "id": "OZvGR8-mkRFz"
      }
    },
    {
      "cell_type": "markdown",
      "source": [
        "To turn a dictionary into keyword arguments that go into a function, you can use the ** symbol to unpack the dictionary and pass its key-value pairs as keyword arguments."
      ],
      "metadata": {
        "id": "xwK_EteKk6av"
      }
    },
    {
      "cell_type": "code",
      "source": [
        "#code1\n",
        "def function(a, b, *args, keyword=True, **kwargs):\n",
        "    print(a, b)\n",
        "    print(args)\n",
        "    print(keyword)\n",
        "    print(kwargs)\n",
        "\n",
        "d = {'param_a': 43, 'param_b': 44}\n",
        "function(1, 2, [5, 3, 4], param=42, **d)\n",
        "print()"
      ],
      "metadata": {
        "colab": {
          "base_uri": "https://localhost:8080/"
        },
        "outputId": "9fcb8721-e8fa-4f47-9add-9bb79e3e7dd5",
        "id": "AZ-VohuKjdS3"
      },
      "execution_count": null,
      "outputs": [
        {
          "output_type": "stream",
          "name": "stdout",
          "text": [
            "1 2\n",
            "([5, 3, 4],)\n",
            "True\n",
            "{'param': 42, 'param_a': 43, 'param_b': 44}\n",
            "\n"
          ]
        }
      ]
    },
    {
      "cell_type": "markdown",
      "source": [
        "In code 1, I am passing [5, 3, 4] as a single positional argument to the function, while in code 2, I am unpacking the list [5, 3, 4] with the * symbol and passing its elements as separate positional arguments to the function. This affects how the *args parameter collects the extra arguments in the function.\n"
      ],
      "metadata": {
        "id": "WXUBPEVQlPc8"
      }
    },
    {
      "cell_type": "code",
      "source": [
        "#code2\n",
        "def function(a, b, *args, keyword=True, **kwargs):\n",
        "    print(a, b)\n",
        "    print(args)\n",
        "    print(keyword)\n",
        "    print(kwargs)\n",
        "\n",
        "d = {'param_a': 43, 'param_b': 44}\n",
        "function(1, 2, *[5, 3, 4], param=42, **d)\n",
        "print()"
      ],
      "metadata": {
        "colab": {
          "base_uri": "https://localhost:8080/"
        },
        "id": "wjxCixjSg-tw",
        "outputId": "079caa65-1294-4734-96f2-bd8148a94778"
      },
      "execution_count": null,
      "outputs": [
        {
          "output_type": "stream",
          "name": "stdout",
          "text": [
            "1 2\n",
            "(5, 3, 4)\n",
            "True\n",
            "{'param': 42, 'param_a': 43, 'param_b': 44}\n",
            "\n"
          ]
        }
      ]
    },
    {
      "cell_type": "markdown",
      "source": [
        "The use of **kwargs in code 1 allows the function to accept any number of keyword arguments that will be passed to the json.dumps function, while the use of specific parameters in code 2 limits the function to accept only the indent and sort_keys arguments. This means that code 1 is more flexible and can handle any option that json.dumps supports, such as separators, ensure_ascii, default, etc."
      ],
      "metadata": {
        "id": "3CP72WGxodPc"
      }
    },
    {
      "cell_type": "code",
      "source": [
        "#code1\n",
        "import json\n",
        "import pathlib\n",
        "\n",
        "def dict_to_config(dictionary, file=\"config.json\", verbose=False, **kwargs):\n",
        "    json_txt = json.dumps(dictionary, **kwargs)\n",
        "    if verbose:\n",
        "        print(json_txt)\n",
        "    pathlib.Path(file).write_text(json_txt)\n"
      ],
      "metadata": {
        "id": "RCXNsVzsp36a"
      },
      "execution_count": null,
      "outputs": []
    },
    {
      "cell_type": "code",
      "source": [
        "#code2\n",
        "import json\n",
        "import pathlib\n",
        "\n",
        "def dict_to_config(dictionary, file=\"config.json\", verbose=False, indent=None, sort_keys=False):\n",
        "    json_txt = json.dumps(dictionary, indent=indent, sort_keys=sort_keys)\n",
        "    if verbose:\n",
        "        print(json_txt)\n",
        "    pathlib.Path(file).write_text(json_txt)\n"
      ],
      "metadata": {
        "id": "EfznKRVtEXF8"
      },
      "execution_count": null,
      "outputs": []
    },
    {
      "cell_type": "markdown",
      "source": [
        "`Databases Course`"
      ],
      "metadata": {
        "id": "rgbVlEB9savT"
      }
    },
    {
      "cell_type": "code",
      "source": [],
      "metadata": {
        "id": "mZsyFSOqsCbm"
      },
      "execution_count": null,
      "outputs": []
    }
  ]
}
