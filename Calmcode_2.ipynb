{
  "nbformat": 4,
  "nbformat_minor": 0,
  "metadata": {
    "colab": {
      "provenance": []
    },
    "kernelspec": {
      "name": "python3",
      "display_name": "Python 3"
    },
    "language_info": {
      "name": "python"
    }
  },
  "cells": [
    {
      "cell_type": "markdown",
      "source": [
        "**comprehensions: introduction**"
      ],
      "metadata": {
        "id": "s0ljkL7baHYe"
      }
    },
    {
      "cell_type": "code",
      "execution_count": 1,
      "metadata": {
        "colab": {
          "base_uri": "https://localhost:8080/"
        },
        "id": "iq-ftUaqX24w",
        "outputId": "860d69d8-56cf-4f9c-849a-08f0d4c3d9a9"
      },
      "outputs": [
        {
          "output_type": "execute_result",
          "data": {
            "text/plain": [
              "[2, 4, 6, 8, 10]"
            ]
          },
          "metadata": {},
          "execution_count": 1
        }
      ],
      "source": [
        "old_list = [1, 2, 3, 4, 5]\n",
        "new_list = []\n",
        "for i in old_list:\n",
        "    new_list.append(i * 2)\n",
        "new_list\n"
      ]
    },
    {
      "cell_type": "markdown",
      "source": [
        " doubling numbers. This simple operation can also be done on a single line instead."
      ],
      "metadata": {
        "id": "3oW7G63waWNd"
      }
    },
    {
      "cell_type": "code",
      "source": [
        "[i * 2 for i in old_list]\n"
      ],
      "metadata": {
        "colab": {
          "base_uri": "https://localhost:8080/"
        },
        "id": "ppxQ17DIaTL8",
        "outputId": "71d2eaa6-7af7-4425-c791-48fcd371efc2"
      },
      "execution_count": 2,
      "outputs": [
        {
          "output_type": "execute_result",
          "data": {
            "text/plain": [
              "[2, 4, 6, 8, 10]"
            ]
          },
          "metadata": {},
          "execution_count": 2
        }
      ]
    },
    {
      "cell_type": "markdown",
      "source": [
        "There are two ways of using an if-statement in a comprehension. You can filter via:"
      ],
      "metadata": {
        "id": "ngydQ2oCahJc"
      }
    },
    {
      "cell_type": "code",
      "source": [
        "[i for i in range(16) if i % 2 == 0]\n"
      ],
      "metadata": {
        "colab": {
          "base_uri": "https://localhost:8080/"
        },
        "id": "Iz9raZh0aUsO",
        "outputId": "c5d30b50-fad2-43f9-f7a7-1b8bbc1882d3"
      },
      "execution_count": 3,
      "outputs": [
        {
          "output_type": "execute_result",
          "data": {
            "text/plain": [
              "[0, 2, 4, 6, 8, 10, 12, 14]"
            ]
          },
          "metadata": {},
          "execution_count": 3
        }
      ]
    },
    {
      "cell_type": "code",
      "source": [
        "[i if i % 2 == 0 else i * 2 for i in range(16)]\n"
      ],
      "metadata": {
        "colab": {
          "base_uri": "https://localhost:8080/"
        },
        "id": "srAtznKlandF",
        "outputId": "604593e4-4141-48e3-fd21-82be3f1b759e"
      },
      "execution_count": 4,
      "outputs": [
        {
          "output_type": "execute_result",
          "data": {
            "text/plain": [
              "[0, 2, 2, 6, 4, 10, 6, 14, 8, 18, 10, 22, 12, 26, 14, 30]"
            ]
          },
          "metadata": {},
          "execution_count": 4
        }
      ]
    },
    {
      "cell_type": "code",
      "source": [
        "[i if i % 2 == 0 else i * 2 for i in range(16) if i % 3 == 0]\n"
      ],
      "metadata": {
        "colab": {
          "base_uri": "https://localhost:8080/"
        },
        "id": "FOfgclU1arWX",
        "outputId": "c391683a-1818-46cf-e84b-877278fdb65e"
      },
      "execution_count": 5,
      "outputs": [
        {
          "output_type": "execute_result",
          "data": {
            "text/plain": [
              "[0, 6, 6, 18, 12, 30]"
            ]
          },
          "metadata": {},
          "execution_count": 5
        }
      ]
    },
    {
      "cell_type": "code",
      "source": [
        "old_list = 'abcde'\n",
        "new_list = []\n",
        "for i in range(len(old_list)):\n",
        "    if i % 2 == 0:\n",
        "        new_list.append(old_list[i])\n",
        "new_list\n"
      ],
      "metadata": {
        "colab": {
          "base_uri": "https://localhost:8080/"
        },
        "id": "oJGCqteDbW7s",
        "outputId": "dacc4116-1f08-4501-b203-425bd60032a4"
      },
      "execution_count": 6,
      "outputs": [
        {
          "output_type": "execute_result",
          "data": {
            "text/plain": [
              "['a', 'c', 'e']"
            ]
          },
          "metadata": {},
          "execution_count": 6
        }
      ]
    },
    {
      "cell_type": "markdown",
      "source": [
        "It can be turned into a one-liner by using a comprehensions and the enumerate function."
      ],
      "metadata": {
        "id": "OYYJUbN4bcBB"
      }
    },
    {
      "cell_type": "code",
      "source": [
        "[char for idx, char in enumerate('abcde') if idx % 2 == 0]\n"
      ],
      "metadata": {
        "colab": {
          "base_uri": "https://localhost:8080/"
        },
        "id": "hXT5wZjRbbi_",
        "outputId": "7619eac7-1794-4e69-cc05-a4cf12e8628d"
      },
      "execution_count": 7,
      "outputs": [
        {
          "output_type": "execute_result",
          "data": {
            "text/plain": [
              "['a', 'c', 'e']"
            ]
          },
          "metadata": {},
          "execution_count": 7
        }
      ]
    },
    {
      "cell_type": "code",
      "source": [
        "old_list = 'abcde'\n",
        "new_list = []\n",
        "for i, c in enumerate(old_list):\n",
        "    if i % 2 == 0:\n",
        "        if c in 'aeuio':\n",
        "            char = c.upper()\n",
        "        else:\n",
        "            char = c\n",
        "        new_list.append(char)\n",
        "new_list\n"
      ],
      "metadata": {
        "colab": {
          "base_uri": "https://localhost:8080/"
        },
        "id": "woHP3_G4bZMg",
        "outputId": "f662197d-ef88-4df0-bb7c-cc7785f9ae7f"
      },
      "execution_count": 8,
      "outputs": [
        {
          "output_type": "execute_result",
          "data": {
            "text/plain": [
              "['A', 'c', 'E']"
            ]
          },
          "metadata": {},
          "execution_count": 8
        }
      ]
    },
    {
      "cell_type": "markdown",
      "source": [
        "comprehensions: nested"
      ],
      "metadata": {
        "id": "iB33uG4tbq1h"
      }
    },
    {
      "cell_type": "code",
      "source": [
        "for i in range(5):\n",
        "    for j in range(i):\n",
        "        print((i, j))\n"
      ],
      "metadata": {
        "colab": {
          "base_uri": "https://localhost:8080/"
        },
        "id": "ecwJQndqbsKs",
        "outputId": "6a3f3fa4-001f-4213-d968-2d1b32dde8dc"
      },
      "execution_count": 9,
      "outputs": [
        {
          "output_type": "stream",
          "name": "stdout",
          "text": [
            "(1, 0)\n",
            "(2, 0)\n",
            "(2, 1)\n",
            "(3, 0)\n",
            "(3, 1)\n",
            "(3, 2)\n",
            "(4, 0)\n",
            "(4, 1)\n",
            "(4, 2)\n",
            "(4, 3)\n"
          ]
        }
      ]
    },
    {
      "cell_type": "code",
      "source": [
        "[(i, j) for i in range(5) for j in range(i)]\n"
      ],
      "metadata": {
        "colab": {
          "base_uri": "https://localhost:8080/"
        },
        "id": "jghh4VVLbzZW",
        "outputId": "08de38ad-ad5d-4236-f7d0-01b9667e4800"
      },
      "execution_count": 10,
      "outputs": [
        {
          "output_type": "execute_result",
          "data": {
            "text/plain": [
              "[(1, 0),\n",
              " (2, 0),\n",
              " (2, 1),\n",
              " (3, 0),\n",
              " (3, 1),\n",
              " (3, 2),\n",
              " (4, 0),\n",
              " (4, 1),\n",
              " (4, 2),\n",
              " (4, 3)]"
            ]
          },
          "metadata": {},
          "execution_count": 10
        }
      ]
    },
    {
      "cell_type": "code",
      "source": [
        "for i in range(5):\n",
        "    if i > 2:\n",
        "        for j in range(i):\n",
        "            if j < 2:\n",
        "                print((i, j))\n"
      ],
      "metadata": {
        "colab": {
          "base_uri": "https://localhost:8080/"
        },
        "id": "lXHPAMwdb2Jg",
        "outputId": "b71fbb22-32cf-42f4-d2ee-94a362ad3154"
      },
      "execution_count": 11,
      "outputs": [
        {
          "output_type": "stream",
          "name": "stdout",
          "text": [
            "(3, 0)\n",
            "(3, 1)\n",
            "(4, 0)\n",
            "(4, 1)\n"
          ]
        }
      ]
    },
    {
      "cell_type": "code",
      "source": [
        "[(i, j) for i in range(5) if i > 2 for j in range(i) if j < 2]\n"
      ],
      "metadata": {
        "colab": {
          "base_uri": "https://localhost:8080/"
        },
        "id": "oA6-MYvzcJPI",
        "outputId": "26dc5824-5c5d-4c88-88a7-21d852cbfaa7"
      },
      "execution_count": 12,
      "outputs": [
        {
          "output_type": "execute_result",
          "data": {
            "text/plain": [
              "[(3, 0), (3, 1), (4, 0), (4, 1)]"
            ]
          },
          "metadata": {},
          "execution_count": 12
        }
      ]
    },
    {
      "cell_type": "markdown",
      "source": [
        "comprehensions: dict"
      ],
      "metadata": {
        "id": "wpCke74PcTrM"
      }
    },
    {
      "cell_type": "code",
      "source": [
        "[c for i, c in enumerate('abceabce') if i < 5]\n"
      ],
      "metadata": {
        "colab": {
          "base_uri": "https://localhost:8080/"
        },
        "id": "fVA7FSsYcUsZ",
        "outputId": "81031e98-4150-4a67-f7c5-fb1fa762844d"
      },
      "execution_count": 13,
      "outputs": [
        {
          "output_type": "execute_result",
          "data": {
            "text/plain": [
              "['a', 'b', 'c', 'e', 'a']"
            ]
          },
          "metadata": {},
          "execution_count": 13
        }
      ]
    },
    {
      "cell_type": "code",
      "source": [
        "{c for i, c in enumerate('abceabce')}\n"
      ],
      "metadata": {
        "colab": {
          "base_uri": "https://localhost:8080/"
        },
        "id": "3BmEFBK1cX2e",
        "outputId": "5ef738a3-c2f8-43fb-e9a0-94d49f9d55e2"
      },
      "execution_count": 14,
      "outputs": [
        {
          "output_type": "execute_result",
          "data": {
            "text/plain": [
              "{'a', 'b', 'c', 'e'}"
            ]
          },
          "metadata": {},
          "execution_count": 14
        }
      ]
    },
    {
      "cell_type": "code",
      "source": [
        "tuple(c for i, c in enumerate('abceabce'))\n"
      ],
      "metadata": {
        "colab": {
          "base_uri": "https://localhost:8080/"
        },
        "id": "tlDuV4a8cb4S",
        "outputId": "98552923-d70a-4d31-9524-6ab3910c754f"
      },
      "execution_count": 15,
      "outputs": [
        {
          "output_type": "execute_result",
          "data": {
            "text/plain": [
              "('a', 'b', 'c', 'e', 'a', 'b', 'c', 'e')"
            ]
          },
          "metadata": {},
          "execution_count": 15
        }
      ]
    },
    {
      "cell_type": "code",
      "source": [
        "{i: c for i, c in enumerate('abceabce') if i < 5}\n"
      ],
      "metadata": {
        "colab": {
          "base_uri": "https://localhost:8080/"
        },
        "id": "fyyB-ExVceZf",
        "outputId": "61b4180a-10c6-46a7-b602-94d6df5e393e"
      },
      "execution_count": 16,
      "outputs": [
        {
          "output_type": "execute_result",
          "data": {
            "text/plain": [
              "{0: 'a', 1: 'b', 2: 'c', 3: 'e', 4: 'a'}"
            ]
          },
          "metadata": {},
          "execution_count": 16
        }
      ]
    },
    {
      "cell_type": "markdown",
      "source": [
        "comprehensions: unique"
      ],
      "metadata": {
        "id": "6kKhiqNAckzP"
      }
    },
    {
      "cell_type": "code",
      "source": [
        "{i: c for i, c in enumerate('abcdefa')}\n"
      ],
      "metadata": {
        "colab": {
          "base_uri": "https://localhost:8080/"
        },
        "id": "uwKByPIpcmzY",
        "outputId": "1825831d-daa9-40ad-a3b6-2fcfdaae01b7"
      },
      "execution_count": 17,
      "outputs": [
        {
          "output_type": "execute_result",
          "data": {
            "text/plain": [
              "{0: 'a', 1: 'b', 2: 'c', 3: 'd', 4: 'e', 5: 'f', 6: 'a'}"
            ]
          },
          "metadata": {},
          "execution_count": 17
        }
      ]
    },
    {
      "cell_type": "code",
      "source": [
        "{c: i for i, c in enumerate('abcdefa')}\n"
      ],
      "metadata": {
        "colab": {
          "base_uri": "https://localhost:8080/"
        },
        "id": "lkafwF24cpYo",
        "outputId": "ad510c12-87d2-487f-b181-639d0f21cc41"
      },
      "execution_count": 18,
      "outputs": [
        {
          "output_type": "execute_result",
          "data": {
            "text/plain": [
              "{'a': 6, 'b': 1, 'c': 2, 'd': 3, 'e': 4, 'f': 5}"
            ]
          },
          "metadata": {},
          "execution_count": 18
        }
      ]
    },
    {
      "cell_type": "markdown",
      "source": [
        "comprehensions: unpack"
      ],
      "metadata": {
        "id": "lRINIVbWfGvU"
      }
    },
    {
      "cell_type": "code",
      "source": [
        "arr = [('a', 1), ('b', 2), ('c', 2)]\n",
        "for idx, (char, i) in enumerate(arr):\n",
        "    print(idx, char, i)\n"
      ],
      "metadata": {
        "colab": {
          "base_uri": "https://localhost:8080/"
        },
        "id": "8wiO-D4ifINF",
        "outputId": "7bb2b34e-05df-4439-e40b-6be49c3bc01e"
      },
      "execution_count": 19,
      "outputs": [
        {
          "output_type": "stream",
          "name": "stdout",
          "text": [
            "0 a 1\n",
            "1 b 2\n",
            "2 c 2\n"
          ]
        }
      ]
    },
    {
      "cell_type": "code",
      "source": [
        "[{key: value, 'i': idx} for idx, (key, value) in enumerate(arr)]\n"
      ],
      "metadata": {
        "colab": {
          "base_uri": "https://localhost:8080/"
        },
        "id": "b3hBi8HRfMmS",
        "outputId": "609bbdf5-b767-4ddb-cb1a-37946d80d771"
      },
      "execution_count": 20,
      "outputs": [
        {
          "output_type": "execute_result",
          "data": {
            "text/plain": [
              "[{'a': 1, 'i': 0}, {'b': 2, 'i': 1}, {'c': 2, 'i': 2}]"
            ]
          },
          "metadata": {},
          "execution_count": 20
        }
      ]
    },
    {
      "cell_type": "markdown",
      "source": [
        "comprehensions: zip"
      ],
      "metadata": {
        "id": "_qn-m-mQfYZZ"
      }
    },
    {
      "cell_type": "code",
      "source": [
        "d = {'a': 1, 'b': 2, 'c': 3}\n",
        "[(k, v) for k, v in d.items()]\n"
      ],
      "metadata": {
        "colab": {
          "base_uri": "https://localhost:8080/"
        },
        "id": "4x20pl6EfREQ",
        "outputId": "ed8d6fb6-a0ec-4959-d9af-87a1e64aff2a"
      },
      "execution_count": 21,
      "outputs": [
        {
          "output_type": "execute_result",
          "data": {
            "text/plain": [
              "[('a', 1), ('b', 2), ('c', 3)]"
            ]
          },
          "metadata": {},
          "execution_count": 21
        }
      ]
    },
    {
      "cell_type": "markdown",
      "source": [
        "Using .items() you can have access to both the keys and the values. You could use it, for example, to quickly double all the values in a dictionary;"
      ],
      "metadata": {
        "id": "0XNz9HLVfaGd"
      }
    },
    {
      "cell_type": "code",
      "source": [
        "d = {'a':1, 'b':2}\n",
        "{k: v * 2 for k, v in d.items()}\n"
      ],
      "metadata": {
        "colab": {
          "base_uri": "https://localhost:8080/"
        },
        "id": "Ar_NHxpNfeVU",
        "outputId": "b1dfa08b-07a7-47a9-9cae-2e224efcf6cd"
      },
      "execution_count": 22,
      "outputs": [
        {
          "output_type": "execute_result",
          "data": {
            "text/plain": [
              "{'a': 2, 'b': 4}"
            ]
          },
          "metadata": {},
          "execution_count": 22
        }
      ]
    },
    {
      "cell_type": "markdown",
      "source": [
        "Another function to be aware of is zip. It allows you to \"zip\" lists together like a zipper."
      ],
      "metadata": {
        "id": "j4b7xQLZfmt4"
      }
    },
    {
      "cell_type": "code",
      "source": [
        "[(a, b) for a, b in zip([1, 2, 3], [4, 5, 6])]\n"
      ],
      "metadata": {
        "colab": {
          "base_uri": "https://localhost:8080/"
        },
        "id": "nwLgsbwDfkvW",
        "outputId": "682810b1-2cfc-4c1d-d755-59664794cbc3"
      },
      "execution_count": 23,
      "outputs": [
        {
          "output_type": "execute_result",
          "data": {
            "text/plain": [
              "[(1, 4), (2, 5), (3, 6)]"
            ]
          },
          "metadata": {},
          "execution_count": 23
        }
      ]
    },
    {
      "cell_type": "code",
      "source": [
        "[(a, b, c) for a, b, c in zip([1, 2, 3], [4, 5, 6], [7, 8, 9])]\n"
      ],
      "metadata": {
        "colab": {
          "base_uri": "https://localhost:8080/"
        },
        "id": "0obPQCAaftJP",
        "outputId": "2e73236c-9c14-482c-8021-09e5be29ac78"
      },
      "execution_count": 24,
      "outputs": [
        {
          "output_type": "execute_result",
          "data": {
            "text/plain": [
              "[(1, 4, 7), (2, 5, 8), (3, 6, 9)]"
            ]
          },
          "metadata": {},
          "execution_count": 24
        }
      ]
    },
    {
      "cell_type": "markdown",
      "source": [
        "\n",
        "**lunr.py**"
      ],
      "metadata": {
        "id": "WRvvSUCQf4b1"
      }
    },
    {
      "cell_type": "code",
      "source": [
        "import pandas as pd\n",
        "\n",
        "df = pd.read_csv(\"/content/clinc.csv\").assign(idx=lambda d: d.index)\n",
        "df.sample(10)\n"
      ],
      "metadata": {
        "colab": {
          "base_uri": "https://localhost:8080/",
          "height": 363
        },
        "id": "P54ZBv0UgIC6",
        "outputId": "43ce0b92-d743-42c2-d800-8013fac1f2e0"
      },
      "execution_count": 27,
      "outputs": [
        {
          "output_type": "execute_result",
          "data": {
            "text/plain": [
              "                                                  text             label  \\\n",
              "13369                          what is my next day off      next_holiday   \n",
              "9128                                         all right               yes   \n",
              "5067   i really need to switch to a new insurance plan  insurance_change   \n",
              "236                  is it safe for me to visit malawi      travel_alert   \n",
              "11095                         thanks for your response         thank_you   \n",
              "10295      schedule an uber for 3 to go to the airport              uber   \n",
              "10922                  i must disconnect from my phone       sync_device   \n",
              "20948             can you get a call started to martha         make_call   \n",
              "23625                  how can i root an android phone               oos   \n",
              "10440                    what would tomorrow's date be              date   \n",
              "\n",
              "         idx  \n",
              "13369  13369  \n",
              "9128    9128  \n",
              "5067    5067  \n",
              "236      236  \n",
              "11095  11095  \n",
              "10295  10295  \n",
              "10922  10922  \n",
              "20948  20948  \n",
              "23625  23625  \n",
              "10440  10440  "
            ],
            "text/html": [
              "\n",
              "  <div id=\"df-5b29e6a1-70c0-45c7-9ec8-26d700204572\" class=\"colab-df-container\">\n",
              "    <div>\n",
              "<style scoped>\n",
              "    .dataframe tbody tr th:only-of-type {\n",
              "        vertical-align: middle;\n",
              "    }\n",
              "\n",
              "    .dataframe tbody tr th {\n",
              "        vertical-align: top;\n",
              "    }\n",
              "\n",
              "    .dataframe thead th {\n",
              "        text-align: right;\n",
              "    }\n",
              "</style>\n",
              "<table border=\"1\" class=\"dataframe\">\n",
              "  <thead>\n",
              "    <tr style=\"text-align: right;\">\n",
              "      <th></th>\n",
              "      <th>text</th>\n",
              "      <th>label</th>\n",
              "      <th>idx</th>\n",
              "    </tr>\n",
              "  </thead>\n",
              "  <tbody>\n",
              "    <tr>\n",
              "      <th>13369</th>\n",
              "      <td>what is my next day off</td>\n",
              "      <td>next_holiday</td>\n",
              "      <td>13369</td>\n",
              "    </tr>\n",
              "    <tr>\n",
              "      <th>9128</th>\n",
              "      <td>all right</td>\n",
              "      <td>yes</td>\n",
              "      <td>9128</td>\n",
              "    </tr>\n",
              "    <tr>\n",
              "      <th>5067</th>\n",
              "      <td>i really need to switch to a new insurance plan</td>\n",
              "      <td>insurance_change</td>\n",
              "      <td>5067</td>\n",
              "    </tr>\n",
              "    <tr>\n",
              "      <th>236</th>\n",
              "      <td>is it safe for me to visit malawi</td>\n",
              "      <td>travel_alert</td>\n",
              "      <td>236</td>\n",
              "    </tr>\n",
              "    <tr>\n",
              "      <th>11095</th>\n",
              "      <td>thanks for your response</td>\n",
              "      <td>thank_you</td>\n",
              "      <td>11095</td>\n",
              "    </tr>\n",
              "    <tr>\n",
              "      <th>10295</th>\n",
              "      <td>schedule an uber for 3 to go to the airport</td>\n",
              "      <td>uber</td>\n",
              "      <td>10295</td>\n",
              "    </tr>\n",
              "    <tr>\n",
              "      <th>10922</th>\n",
              "      <td>i must disconnect from my phone</td>\n",
              "      <td>sync_device</td>\n",
              "      <td>10922</td>\n",
              "    </tr>\n",
              "    <tr>\n",
              "      <th>20948</th>\n",
              "      <td>can you get a call started to martha</td>\n",
              "      <td>make_call</td>\n",
              "      <td>20948</td>\n",
              "    </tr>\n",
              "    <tr>\n",
              "      <th>23625</th>\n",
              "      <td>how can i root an android phone</td>\n",
              "      <td>oos</td>\n",
              "      <td>23625</td>\n",
              "    </tr>\n",
              "    <tr>\n",
              "      <th>10440</th>\n",
              "      <td>what would tomorrow's date be</td>\n",
              "      <td>date</td>\n",
              "      <td>10440</td>\n",
              "    </tr>\n",
              "  </tbody>\n",
              "</table>\n",
              "</div>\n",
              "    <div class=\"colab-df-buttons\">\n",
              "\n",
              "  <div class=\"colab-df-container\">\n",
              "    <button class=\"colab-df-convert\" onclick=\"convertToInteractive('df-5b29e6a1-70c0-45c7-9ec8-26d700204572')\"\n",
              "            title=\"Convert this dataframe to an interactive table.\"\n",
              "            style=\"display:none;\">\n",
              "\n",
              "  <svg xmlns=\"http://www.w3.org/2000/svg\" height=\"24px\" viewBox=\"0 -960 960 960\">\n",
              "    <path d=\"M120-120v-720h720v720H120Zm60-500h600v-160H180v160Zm220 220h160v-160H400v160Zm0 220h160v-160H400v160ZM180-400h160v-160H180v160Zm440 0h160v-160H620v160ZM180-180h160v-160H180v160Zm440 0h160v-160H620v160Z\"/>\n",
              "  </svg>\n",
              "    </button>\n",
              "\n",
              "  <style>\n",
              "    .colab-df-container {\n",
              "      display:flex;\n",
              "      gap: 12px;\n",
              "    }\n",
              "\n",
              "    .colab-df-convert {\n",
              "      background-color: #E8F0FE;\n",
              "      border: none;\n",
              "      border-radius: 50%;\n",
              "      cursor: pointer;\n",
              "      display: none;\n",
              "      fill: #1967D2;\n",
              "      height: 32px;\n",
              "      padding: 0 0 0 0;\n",
              "      width: 32px;\n",
              "    }\n",
              "\n",
              "    .colab-df-convert:hover {\n",
              "      background-color: #E2EBFA;\n",
              "      box-shadow: 0px 1px 2px rgba(60, 64, 67, 0.3), 0px 1px 3px 1px rgba(60, 64, 67, 0.15);\n",
              "      fill: #174EA6;\n",
              "    }\n",
              "\n",
              "    .colab-df-buttons div {\n",
              "      margin-bottom: 4px;\n",
              "    }\n",
              "\n",
              "    [theme=dark] .colab-df-convert {\n",
              "      background-color: #3B4455;\n",
              "      fill: #D2E3FC;\n",
              "    }\n",
              "\n",
              "    [theme=dark] .colab-df-convert:hover {\n",
              "      background-color: #434B5C;\n",
              "      box-shadow: 0px 1px 3px 1px rgba(0, 0, 0, 0.15);\n",
              "      filter: drop-shadow(0px 1px 2px rgba(0, 0, 0, 0.3));\n",
              "      fill: #FFFFFF;\n",
              "    }\n",
              "  </style>\n",
              "\n",
              "    <script>\n",
              "      const buttonEl =\n",
              "        document.querySelector('#df-5b29e6a1-70c0-45c7-9ec8-26d700204572 button.colab-df-convert');\n",
              "      buttonEl.style.display =\n",
              "        google.colab.kernel.accessAllowed ? 'block' : 'none';\n",
              "\n",
              "      async function convertToInteractive(key) {\n",
              "        const element = document.querySelector('#df-5b29e6a1-70c0-45c7-9ec8-26d700204572');\n",
              "        const dataTable =\n",
              "          await google.colab.kernel.invokeFunction('convertToInteractive',\n",
              "                                                    [key], {});\n",
              "        if (!dataTable) return;\n",
              "\n",
              "        const docLinkHtml = 'Like what you see? Visit the ' +\n",
              "          '<a target=\"_blank\" href=https://colab.research.google.com/notebooks/data_table.ipynb>data table notebook</a>'\n",
              "          + ' to learn more about interactive tables.';\n",
              "        element.innerHTML = '';\n",
              "        dataTable['output_type'] = 'display_data';\n",
              "        await google.colab.output.renderOutput(dataTable, element);\n",
              "        const docLink = document.createElement('div');\n",
              "        docLink.innerHTML = docLinkHtml;\n",
              "        element.appendChild(docLink);\n",
              "      }\n",
              "    </script>\n",
              "  </div>\n",
              "\n",
              "\n",
              "<div id=\"df-45aea601-ec99-443a-98fb-039ec83f049a\">\n",
              "  <button class=\"colab-df-quickchart\" onclick=\"quickchart('df-45aea601-ec99-443a-98fb-039ec83f049a')\"\n",
              "            title=\"Suggest charts\"\n",
              "            style=\"display:none;\">\n",
              "\n",
              "<svg xmlns=\"http://www.w3.org/2000/svg\" height=\"24px\"viewBox=\"0 0 24 24\"\n",
              "     width=\"24px\">\n",
              "    <g>\n",
              "        <path d=\"M19 3H5c-1.1 0-2 .9-2 2v14c0 1.1.9 2 2 2h14c1.1 0 2-.9 2-2V5c0-1.1-.9-2-2-2zM9 17H7v-7h2v7zm4 0h-2V7h2v10zm4 0h-2v-4h2v4z\"/>\n",
              "    </g>\n",
              "</svg>\n",
              "  </button>\n",
              "\n",
              "<style>\n",
              "  .colab-df-quickchart {\n",
              "      --bg-color: #E8F0FE;\n",
              "      --fill-color: #1967D2;\n",
              "      --hover-bg-color: #E2EBFA;\n",
              "      --hover-fill-color: #174EA6;\n",
              "      --disabled-fill-color: #AAA;\n",
              "      --disabled-bg-color: #DDD;\n",
              "  }\n",
              "\n",
              "  [theme=dark] .colab-df-quickchart {\n",
              "      --bg-color: #3B4455;\n",
              "      --fill-color: #D2E3FC;\n",
              "      --hover-bg-color: #434B5C;\n",
              "      --hover-fill-color: #FFFFFF;\n",
              "      --disabled-bg-color: #3B4455;\n",
              "      --disabled-fill-color: #666;\n",
              "  }\n",
              "\n",
              "  .colab-df-quickchart {\n",
              "    background-color: var(--bg-color);\n",
              "    border: none;\n",
              "    border-radius: 50%;\n",
              "    cursor: pointer;\n",
              "    display: none;\n",
              "    fill: var(--fill-color);\n",
              "    height: 32px;\n",
              "    padding: 0;\n",
              "    width: 32px;\n",
              "  }\n",
              "\n",
              "  .colab-df-quickchart:hover {\n",
              "    background-color: var(--hover-bg-color);\n",
              "    box-shadow: 0 1px 2px rgba(60, 64, 67, 0.3), 0 1px 3px 1px rgba(60, 64, 67, 0.15);\n",
              "    fill: var(--button-hover-fill-color);\n",
              "  }\n",
              "\n",
              "  .colab-df-quickchart-complete:disabled,\n",
              "  .colab-df-quickchart-complete:disabled:hover {\n",
              "    background-color: var(--disabled-bg-color);\n",
              "    fill: var(--disabled-fill-color);\n",
              "    box-shadow: none;\n",
              "  }\n",
              "\n",
              "  .colab-df-spinner {\n",
              "    border: 2px solid var(--fill-color);\n",
              "    border-color: transparent;\n",
              "    border-bottom-color: var(--fill-color);\n",
              "    animation:\n",
              "      spin 1s steps(1) infinite;\n",
              "  }\n",
              "\n",
              "  @keyframes spin {\n",
              "    0% {\n",
              "      border-color: transparent;\n",
              "      border-bottom-color: var(--fill-color);\n",
              "      border-left-color: var(--fill-color);\n",
              "    }\n",
              "    20% {\n",
              "      border-color: transparent;\n",
              "      border-left-color: var(--fill-color);\n",
              "      border-top-color: var(--fill-color);\n",
              "    }\n",
              "    30% {\n",
              "      border-color: transparent;\n",
              "      border-left-color: var(--fill-color);\n",
              "      border-top-color: var(--fill-color);\n",
              "      border-right-color: var(--fill-color);\n",
              "    }\n",
              "    40% {\n",
              "      border-color: transparent;\n",
              "      border-right-color: var(--fill-color);\n",
              "      border-top-color: var(--fill-color);\n",
              "    }\n",
              "    60% {\n",
              "      border-color: transparent;\n",
              "      border-right-color: var(--fill-color);\n",
              "    }\n",
              "    80% {\n",
              "      border-color: transparent;\n",
              "      border-right-color: var(--fill-color);\n",
              "      border-bottom-color: var(--fill-color);\n",
              "    }\n",
              "    90% {\n",
              "      border-color: transparent;\n",
              "      border-bottom-color: var(--fill-color);\n",
              "    }\n",
              "  }\n",
              "</style>\n",
              "\n",
              "  <script>\n",
              "    async function quickchart(key) {\n",
              "      const quickchartButtonEl =\n",
              "        document.querySelector('#' + key + ' button');\n",
              "      quickchartButtonEl.disabled = true;  // To prevent multiple clicks.\n",
              "      quickchartButtonEl.classList.add('colab-df-spinner');\n",
              "      try {\n",
              "        const charts = await google.colab.kernel.invokeFunction(\n",
              "            'suggestCharts', [key], {});\n",
              "      } catch (error) {\n",
              "        console.error('Error during call to suggestCharts:', error);\n",
              "      }\n",
              "      quickchartButtonEl.classList.remove('colab-df-spinner');\n",
              "      quickchartButtonEl.classList.add('colab-df-quickchart-complete');\n",
              "    }\n",
              "    (() => {\n",
              "      let quickchartButtonEl =\n",
              "        document.querySelector('#df-45aea601-ec99-443a-98fb-039ec83f049a button');\n",
              "      quickchartButtonEl.style.display =\n",
              "        google.colab.kernel.accessAllowed ? 'block' : 'none';\n",
              "    })();\n",
              "  </script>\n",
              "</div>\n",
              "\n",
              "    </div>\n",
              "  </div>\n"
            ],
            "application/vnd.google.colaboratory.intrinsic+json": {
              "type": "dataframe",
              "summary": "{\n  \"name\": \"df\",\n  \"rows\": 10,\n  \"fields\": [\n    {\n      \"column\": \"text\",\n      \"properties\": {\n        \"dtype\": \"string\",\n        \"samples\": [\n          \"how can i root an android phone\",\n          \"all right\",\n          \"schedule an uber for 3 to go to the airport\"\n        ],\n        \"num_unique_values\": 10,\n        \"semantic_type\": \"\",\n        \"description\": \"\"\n      }\n    },\n    {\n      \"column\": \"label\",\n      \"properties\": {\n        \"dtype\": \"string\",\n        \"samples\": [\n          \"oos\",\n          \"yes\",\n          \"uber\"\n        ],\n        \"num_unique_values\": 10,\n        \"semantic_type\": \"\",\n        \"description\": \"\"\n      }\n    },\n    {\n      \"column\": \"idx\",\n      \"properties\": {\n        \"dtype\": \"number\",\n        \"std\": 6804,\n        \"min\": 236,\n        \"max\": 23625,\n        \"samples\": [\n          23625,\n          9128,\n          10295\n        ],\n        \"num_unique_values\": 10,\n        \"semantic_type\": \"\",\n        \"description\": \"\"\n      }\n    }\n  ]\n}"
            }
          },
          "metadata": {},
          "execution_count": 27
        }
      ]
    },
    {
      "cell_type": "code",
      "source": [
        "documents = df.to_dict(orient=\"records\")\n"
      ],
      "metadata": {
        "id": "w90c6x2Qg87K"
      },
      "execution_count": 28,
      "outputs": []
    },
    {
      "cell_type": "code",
      "source": [
        "!pip install lunr\n"
      ],
      "metadata": {
        "colab": {
          "base_uri": "https://localhost:8080/"
        },
        "id": "hNxdI-pghLTR",
        "outputId": "0de36206-779f-467f-e652-f8dc011ef0d8"
      },
      "execution_count": 30,
      "outputs": [
        {
          "output_type": "stream",
          "name": "stdout",
          "text": [
            "Collecting lunr\n",
            "  Downloading lunr-0.7.0.post1-py3-none-any.whl (35 kB)\n",
            "Installing collected packages: lunr\n",
            "Successfully installed lunr-0.7.0.post1\n"
          ]
        }
      ]
    },
    {
      "cell_type": "markdown",
      "source": [
        "The lunr function has three parameters.\n",
        "\n",
        "ref is the key in the documents to be used sa the reference.\n",
        "fields is a sequence of keys to index from the documents.\n",
        "documents is the list of dictionaries that resemble the documents to be indexed.\n",
        "This gives us an index variable that we can use to query our data."
      ],
      "metadata": {
        "id": "INKWh-cPhRwH"
      }
    },
    {
      "cell_type": "code",
      "source": [
        "from lunr import lunr\n",
        "\n",
        "index = lunr(ref='idx', fields=('text',), documents=documents)\n"
      ],
      "metadata": {
        "id": "lGvxsHpchAOD"
      },
      "execution_count": 31,
      "outputs": []
    },
    {
      "cell_type": "code",
      "source": [
        "index.search('spanish')\n",
        "# [{'ref': '4501', 'score': 7.801, 'match_data': <MatchData \"spanish\">},\n",
        "#  {'ref': '3', 'score': 7.62, 'match_data': <MatchData \"spanish\">},\n",
        "#  {'ref': '26', 'score': 7.62, 'match_data': <MatchData \"spanish\">},\n",
        "#  ...\n",
        "#  {'ref': '19726', 'score': 5.065, 'match_data': <MatchData \"spanish\">}]\n"
      ],
      "metadata": {
        "colab": {
          "base_uri": "https://localhost:8080/"
        },
        "id": "eD2CA94nhacI",
        "outputId": "d799049d-5476-4c05-80e9-24824ea9d609"
      },
      "execution_count": 32,
      "outputs": [
        {
          "output_type": "execute_result",
          "data": {
            "text/plain": [
              "[{'ref': '4501', 'score': 7.801, 'match_data': <MatchData \"spanish\">},\n",
              " {'ref': '3', 'score': 7.62, 'match_data': <MatchData \"spanish\">},\n",
              " {'ref': '26', 'score': 7.62, 'match_data': <MatchData \"spanish\">},\n",
              " {'ref': '27', 'score': 7.62, 'match_data': <MatchData \"spanish\">},\n",
              " {'ref': '28', 'score': 7.62, 'match_data': <MatchData \"spanish\">},\n",
              " {'ref': '4526', 'score': 7.62, 'match_data': <MatchData \"spanish\">},\n",
              " {'ref': '4529', 'score': 7.62, 'match_data': <MatchData \"spanish\">},\n",
              " {'ref': '4556', 'score': 7.62, 'match_data': <MatchData \"spanish\">},\n",
              " {'ref': '4573', 'score': 7.62, 'match_data': <MatchData \"spanish\">},\n",
              " {'ref': '4575', 'score': 7.62, 'match_data': <MatchData \"spanish\">},\n",
              " {'ref': '4576', 'score': 7.62, 'match_data': <MatchData \"spanish\">},\n",
              " {'ref': '4585', 'score': 7.62, 'match_data': <MatchData \"spanish\">},\n",
              " {'ref': '5638', 'score': 7.62, 'match_data': <MatchData \"spanish\">},\n",
              " {'ref': '19505', 'score': 7.62, 'match_data': <MatchData \"spanish\">},\n",
              " {'ref': '19507', 'score': 7.62, 'match_data': <MatchData \"spanish\">},\n",
              " {'ref': '25', 'score': 6.767, 'match_data': <MatchData \"spanish\">},\n",
              " {'ref': '334', 'score': 6.767, 'match_data': <MatchData \"spanish\">},\n",
              " {'ref': '342', 'score': 6.767, 'match_data': <MatchData \"spanish\">},\n",
              " {'ref': '348', 'score': 6.767, 'match_data': <MatchData \"spanish\">},\n",
              " {'ref': '350', 'score': 6.767, 'match_data': <MatchData \"spanish\">},\n",
              " {'ref': '4546', 'score': 6.767, 'match_data': <MatchData \"spanish\">},\n",
              " {'ref': '4550', 'score': 6.767, 'match_data': <MatchData \"spanish\">},\n",
              " {'ref': '4559', 'score': 6.767, 'match_data': <MatchData \"spanish\">},\n",
              " {'ref': '4574', 'score': 6.767, 'match_data': <MatchData \"spanish\">},\n",
              " {'ref': '4577', 'score': 6.767, 'match_data': <MatchData \"spanish\">},\n",
              " {'ref': '4579', 'score': 6.767, 'match_data': <MatchData \"spanish\">},\n",
              " {'ref': '4595', 'score': 6.767, 'match_data': <MatchData \"spanish\">},\n",
              " {'ref': '4598', 'score': 6.767, 'match_data': <MatchData \"spanish\">},\n",
              " {'ref': '5619', 'score': 6.767, 'match_data': <MatchData \"spanish\">},\n",
              " {'ref': '5627', 'score': 6.767, 'match_data': <MatchData \"spanish\">},\n",
              " {'ref': '5639', 'score': 6.767, 'match_data': <MatchData \"spanish\">},\n",
              " {'ref': '5640', 'score': 6.767, 'match_data': <MatchData \"spanish\">},\n",
              " {'ref': '5644', 'score': 6.767, 'match_data': <MatchData \"spanish\">},\n",
              " {'ref': '5654', 'score': 6.767, 'match_data': <MatchData \"spanish\">},\n",
              " {'ref': '5672', 'score': 6.767, 'match_data': <MatchData \"spanish\">},\n",
              " {'ref': '19500', 'score': 6.767, 'match_data': <MatchData \"spanish\">},\n",
              " {'ref': '1', 'score': 6.085, 'match_data': <MatchData \"spanish\">},\n",
              " {'ref': '12', 'score': 6.085, 'match_data': <MatchData \"spanish\">},\n",
              " {'ref': '29', 'score': 6.085, 'match_data': <MatchData \"spanish\">},\n",
              " {'ref': '343', 'score': 6.085, 'match_data': <MatchData \"spanish\">},\n",
              " {'ref': '4510', 'score': 6.085, 'match_data': <MatchData \"spanish\">},\n",
              " {'ref': '4527', 'score': 6.085, 'match_data': <MatchData \"spanish\">},\n",
              " {'ref': '4543', 'score': 6.085, 'match_data': <MatchData \"spanish\">},\n",
              " {'ref': '4592', 'score': 6.085, 'match_data': <MatchData \"spanish\">},\n",
              " {'ref': '5604', 'score': 6.085, 'match_data': <MatchData \"spanish\">},\n",
              " {'ref': '5618', 'score': 6.085, 'match_data': <MatchData \"spanish\">},\n",
              " {'ref': '5621', 'score': 6.085, 'match_data': <MatchData \"spanish\">},\n",
              " {'ref': '5625', 'score': 6.085, 'match_data': <MatchData \"spanish\">},\n",
              " {'ref': '5647', 'score': 6.085, 'match_data': <MatchData \"spanish\">},\n",
              " {'ref': '5664', 'score': 6.085, 'match_data': <MatchData \"spanish\">},\n",
              " {'ref': '18182', 'score': 6.085, 'match_data': <MatchData \"spanish\">},\n",
              " {'ref': '19517', 'score': 6.085, 'match_data': <MatchData \"spanish\">},\n",
              " {'ref': '19727', 'score': 6.085, 'match_data': <MatchData \"spanish\">},\n",
              " {'ref': '5611', 'score': 5.528, 'match_data': <MatchData \"spanish\">},\n",
              " {'ref': '5692', 'score': 5.528, 'match_data': <MatchData \"spanish\">},\n",
              " {'ref': '5697', 'score': 5.528, 'match_data': <MatchData \"spanish\">},\n",
              " {'ref': '19726', 'score': 5.065, 'match_data': <MatchData \"spanish\">}]"
            ]
          },
          "metadata": {},
          "execution_count": 32
        }
      ]
    },
    {
      "cell_type": "markdown",
      "source": [
        "This index gives us a score as well as a reference to our original data. We can re-use this to get our original documents again."
      ],
      "metadata": {
        "id": "hlhz0MSkiLyg"
      }
    },
    {
      "cell_type": "code",
      "source": [
        "[documents[int(i['ref'])] for i in index.search('spanish')]\n",
        "# [{'text': \"can you tell me how to say 'i do not speak much spanish', in spanish\",\n",
        "#  'label': 'translate',\n",
        "#  'idx': 4501},\n",
        "# {'text': 'how do you say fast in spanish', 'label': 'translate', 'idx': 3},\n",
        "# {'text': 'what is dog in spanish', 'label': 'translate', 'idx': 26},\n",
        "# ...\n",
        "# {'text': 'please change your language setting to spanish now',\n",
        "#  'label': 'change_language',\n",
        "#  'idx': 19726}]\n"
      ],
      "metadata": {
        "colab": {
          "base_uri": "https://localhost:8080/"
        },
        "id": "odT4juigh-O9",
        "outputId": "01538b48-8993-4b34-92a3-a1d4a31ffcf9"
      },
      "execution_count": 33,
      "outputs": [
        {
          "output_type": "execute_result",
          "data": {
            "text/plain": [
              "[{'text': \"can you tell me how to say 'i do not speak much spanish', in spanish\",\n",
              "  'label': 'translate',\n",
              "  'idx': 4501},\n",
              " {'text': 'how do you say fast in spanish', 'label': 'translate', 'idx': 3},\n",
              " {'text': 'what is dog in spanish', 'label': 'translate', 'idx': 26},\n",
              " {'text': 'how do you say dog in spanish', 'label': 'translate', 'idx': 27},\n",
              " {'text': 'dog in spanish', 'label': 'translate', 'idx': 28},\n",
              " {'text': 'how can i say not now in spanish',\n",
              "  'label': 'translate',\n",
              "  'idx': 4526},\n",
              " {'text': 'how do you say goodbye in spanish',\n",
              "  'label': 'translate',\n",
              "  'idx': 4529},\n",
              " {'text': 'what is spanish for hello', 'label': 'translate', 'idx': 4556},\n",
              " {'text': 'how do you say thank you in spanish',\n",
              "  'label': 'translate',\n",
              "  'idx': 4573},\n",
              " {'text': 'how can i say thank you in spanish',\n",
              "  'label': 'translate',\n",
              "  'idx': 4575},\n",
              " {'text': 'what is thank you in spanish', 'label': 'translate', 'idx': 4576},\n",
              " {'text': 'how do you say cat in spanish', 'label': 'translate', 'idx': 4585},\n",
              " {'text': 'can you talk in spanish', 'label': 'change_language', 'idx': 5638},\n",
              " {'text': 'how do i say dinner in spanish',\n",
              "  'label': 'translate',\n",
              "  'idx': 19505},\n",
              " {'text': 'how do i say thank you in spanish',\n",
              "  'label': 'translate',\n",
              "  'idx': 19507},\n",
              " {'text': 'english to spanish for dog', 'label': 'translate', 'idx': 25},\n",
              " {'text': 'speak spanish please', 'label': 'change_language', 'idx': 334},\n",
              " {'text': 'i want to use spanish with you',\n",
              "  'label': 'change_language',\n",
              "  'idx': 342},\n",
              " {'text': \"i'd like the language to be in spanish\",\n",
              "  'label': 'change_language',\n",
              "  'idx': 348},\n",
              " {'text': 'can i speak spanish to you hombre',\n",
              "  'label': 'change_language',\n",
              "  'idx': 350},\n",
              " {'text': 'what is the word for hello spanish',\n",
              "  'label': 'translate',\n",
              "  'idx': 4546},\n",
              " {'text': 'tell me how to say hello in spanish',\n",
              "  'label': 'translate',\n",
              "  'idx': 4550},\n",
              " {'text': 'what is spanish for good morning',\n",
              "  'label': 'translate',\n",
              "  'idx': 4559},\n",
              " {'text': 'how does one say thank you in spanish',\n",
              "  'label': 'translate',\n",
              "  'idx': 4574},\n",
              " {'text': 'what is the way to say thank you in spanish',\n",
              "  'label': 'translate',\n",
              "  'idx': 4577},\n",
              " {'text': 'how do they say \"where\\'s the bathroom\" in spanish',\n",
              "  'label': 'translate',\n",
              "  'idx': 4579},\n",
              " {'text': 'can you translate hi into spanish for me',\n",
              "  'label': 'translate',\n",
              "  'idx': 4595},\n",
              " {'text': 'can you translate milk into spanish for me',\n",
              "  'label': 'translate',\n",
              "  'idx': 4598},\n",
              " {'text': 'fix my language to spanish',\n",
              "  'label': 'change_language',\n",
              "  'idx': 5619},\n",
              " {'text': 'please respond to me in spanish',\n",
              "  'label': 'change_language',\n",
              "  'idx': 5627},\n",
              " {'text': 'can i start talking to you in spanish',\n",
              "  'label': 'change_language',\n",
              "  'idx': 5639},\n",
              " {'text': 'please talk to me in spanish',\n",
              "  'label': 'change_language',\n",
              "  'idx': 5640},\n",
              " {'text': 'talk to me in spanish from now on',\n",
              "  'label': 'change_language',\n",
              "  'idx': 5644},\n",
              " {'text': 'is it possible to only talk in spanish',\n",
              "  'label': 'change_language',\n",
              "  'idx': 5654},\n",
              " {'text': 'start talking in spanish', 'label': 'change_language', 'idx': 5672},\n",
              " {'text': 'in spanish, meet me tomorrow is said how',\n",
              "  'label': 'translate',\n",
              "  'idx': 19500},\n",
              " {'text': \"what's the spanish word for pasta\", 'label': 'translate', 'idx': 1},\n",
              " {'text': 'what is the right way to say excuse me in spanish',\n",
              "  'label': 'translate',\n",
              "  'idx': 12},\n",
              " {'text': \"what's the spanish word for dog\", 'label': 'translate', 'idx': 29},\n",
              " {'text': \"please let's speak in spanish\",\n",
              "  'label': 'change_language',\n",
              "  'idx': 343},\n",
              " {'text': \"how would i say, 'i don't know the answer' in spanish\",\n",
              "  'label': 'translate',\n",
              "  'idx': 4510},\n",
              " {'text': 'what do spanish people say for the word cow',\n",
              "  'label': 'translate',\n",
              "  'idx': 4527},\n",
              " {'text': 'what spanish word means hello', 'label': 'translate', 'idx': 4543},\n",
              " {'text': 'i wanna know a phrase in spanish',\n",
              "  'label': 'translate',\n",
              "  'idx': 4592},\n",
              " {'text': 'i would like to have language set to spanish, please',\n",
              "  'label': 'change_language',\n",
              "  'idx': 5604},\n",
              " {'text': 'i need to change language to spanish',\n",
              "  'label': 'change_language',\n",
              "  'idx': 5618},\n",
              " {'text': 'i need to change my speaking to spanish',\n",
              "  'label': 'change_language',\n",
              "  'idx': 5621},\n",
              " {'text': 'change your language to spanish please',\n",
              "  'label': 'change_language',\n",
              "  'idx': 5625},\n",
              " {'text': 'i want to use spanish as my language',\n",
              "  'label': 'change_language',\n",
              "  'idx': 5647},\n",
              " {'text': 'let’s chat using spanish', 'label': 'change_language', 'idx': 5664},\n",
              " {'text': 'add mia to my spanish playlist',\n",
              "  'label': 'update_playlist',\n",
              "  'idx': 18182},\n",
              " {'text': 'can you translate this name into spanish for me, please',\n",
              "  'label': 'translate',\n",
              "  'idx': 19517},\n",
              " {'text': 'change your language setting to spanish',\n",
              "  'label': 'change_language',\n",
              "  'idx': 19727},\n",
              " {'text': 'i want us to speak to each other in spanish from now on',\n",
              "  'label': 'change_language',\n",
              "  'idx': 5611},\n",
              " {'text': 'can you start talking to me in spanish from here on out',\n",
              "  'label': 'change_language',\n",
              "  'idx': 5692},\n",
              " {'text': 'please change your language setting to spanish',\n",
              "  'label': 'change_language',\n",
              "  'idx': 5697},\n",
              " {'text': 'please change your language setting to spanish now',\n",
              "  'label': 'change_language',\n",
              "  'idx': 19726}]"
            ]
          },
          "metadata": {},
          "execution_count": 33
        }
      ]
    },
    {
      "cell_type": "markdown",
      "source": [
        "Benchmark\n",
        "We were curious about the performance statistics so we ran some comparisons\n",
        "\n",
        "we observe that, Lunr is faster to retreive data that either a list comprehension or a Pandas query, even if we re-use the index to fetch the original documents."
      ],
      "metadata": {
        "id": "p8qvMugnjMVQ"
      }
    },
    {
      "cell_type": "code",
      "source": [
        "%timeit df.loc[lambda d: d['text'].str.contains(\"spanish\")]\n",
        "# 4.79 ms ± 37 µs per loop (mean ± std. dev. of 7 runs, 100 loops each)\n",
        "\n",
        "%timeit [d for d in documents if 'spanish' in d['text']]\n",
        "# 1.86 ms ± 32.9 µs per loop (mean ± std. dev. of 7 runs, 100 loops each)\n",
        "\n",
        "%timeit index.search('spanish')\n",
        "# 304 µs ± 1.85 µs per loop (mean ± std. dev. of 7 runs, 1,000 loops each)\n",
        "\n",
        "%timeit [documents[int(i['ref'])] for i in index.search('spanish')]\n",
        "# 309 µs ± 1.2 µs per loop (mean ± std. dev. of 7 runs, 1,000 loops each)\n"
      ],
      "metadata": {
        "colab": {
          "base_uri": "https://localhost:8080/"
        },
        "id": "QJBaXGRjjEVq",
        "outputId": "05c99ea1-37db-49cf-c46e-8876b4f2b632"
      },
      "execution_count": 35,
      "outputs": [
        {
          "output_type": "stream",
          "name": "stdout",
          "text": [
            "12.5 ms ± 2.89 ms per loop (mean ± std. dev. of 7 runs, 100 loops each)\n",
            "2.87 ms ± 50.4 µs per loop (mean ± std. dev. of 7 runs, 100 loops each)\n",
            "804 µs ± 220 µs per loop (mean ± std. dev. of 7 runs, 1000 loops each)\n",
            "715 µs ± 72.6 µs per loop (mean ± std. dev. of 7 runs, 1000 loops each)\n"
          ]
        }
      ]
    },
    {
      "cell_type": "markdown",
      "source": [
        "**Usecase**: Lunr is great for smaller datasets that fit on a single machine and for rapid prototyping. It doesn't have great support for typos and it won't scale once your dataset grows bigger."
      ],
      "metadata": {
        "id": "OWFta0WCjhPF"
      }
    },
    {
      "cell_type": "code",
      "source": [],
      "metadata": {
        "id": "vInVqzNajnif"
      },
      "execution_count": null,
      "outputs": []
    }
  ]
}