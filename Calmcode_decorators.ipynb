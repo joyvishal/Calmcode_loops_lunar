{
  "nbformat": 4,
  "nbformat_minor": 0,
  "metadata": {
    "colab": {
      "provenance": []
    },
    "kernelspec": {
      "name": "python3",
      "display_name": "Python 3"
    },
    "language_info": {
      "name": "python"
    }
  },
  "cells": [
    {
      "cell_type": "markdown",
      "source": [
        "**decorators: introduction**"
      ],
      "metadata": {
        "id": "WTJwajWlUdHi"
      }
    },
    {
      "cell_type": "markdown",
      "source": [
        "Decorators are functions that make other functions better. It's a bit meta, but they're very powerful. In this series of video's we'll explore them by building our own but also by showing how you typically use them. There's no real code just yet. But this series of videos will go indepth so this might be a great moment to grab a coffee!"
      ],
      "metadata": {
        "id": "62aarqIOUl2t"
      }
    },
    {
      "cell_type": "markdown",
      "source": [
        "In python, functions can accept functions as input. This might seems a bit strange at first so let's look at an example."
      ],
      "metadata": {
        "id": "xeheWvsIUqub"
      }
    },
    {
      "cell_type": "code",
      "source": [
        "def apply(func, a, b):\n",
        "    return func(a, b)\n",
        "\n",
        "def add(a, b):\n",
        "    return a + b\n",
        "\n",
        "def sub(a, b):\n",
        "    return a - b\n",
        "\n",
        "apply(add, 1, 2), apply(sub, 1, 2)"
      ],
      "metadata": {
        "colab": {
          "base_uri": "https://localhost:8080/"
        },
        "id": "LLd8ZUv9Rt8H",
        "outputId": "990acb81-396a-4e2b-916f-e79697b8f960"
      },
      "execution_count": 1,
      "outputs": [
        {
          "output_type": "execute_result",
          "data": {
            "text/plain": [
              "(3, -1)"
            ]
          },
          "metadata": {},
          "execution_count": 1
        }
      ]
    },
    {
      "cell_type": "markdown",
      "source": [
        "But they can also return functions as output."
      ],
      "metadata": {
        "id": "92RnpPQFUvCZ"
      }
    },
    {
      "cell_type": "code",
      "execution_count": 2,
      "metadata": {
        "colab": {
          "base_uri": "https://localhost:8080/"
        },
        "id": "db0lSdG4Rerb",
        "outputId": "bb2d6391-1a8b-4297-f13c-5d348d2fbb46"
      },
      "outputs": [
        {
          "output_type": "execute_result",
          "data": {
            "text/plain": [
              "(9, 27)"
            ]
          },
          "metadata": {},
          "execution_count": 2
        }
      ],
      "source": [
        "def power(n):\n",
        "    def func(number):\n",
        "        return number**n\n",
        "    return func\n",
        "\n",
        "pow2 = power(2)\n",
        "pow3 = power(3)\n",
        "\n",
        "pow2(3), pow3(3)\n"
      ]
    },
    {
      "cell_type": "markdown",
      "source": [
        " decorators: behavior"
      ],
      "metadata": {
        "id": "yEJF5MQsU0s7"
      }
    },
    {
      "cell_type": "markdown",
      "source": [
        "We've seen how functions can accept functions in python as input. Let's use this knowledge to create a function that accepts a function as input but also returns a function as output."
      ],
      "metadata": {
        "id": "9ya9J1rhU8s1"
      }
    },
    {
      "cell_type": "code",
      "source": [
        "import time\n",
        "import random\n",
        "\n",
        "def stopwatch(f):\n",
        "    def func():\n",
        "        tic = time.time()\n",
        "        result = f()\n",
        "        print(f\"this function took: {time.time() - tic}\")\n",
        "        return result\n",
        "    return func\n",
        "\n",
        "def sleep_random():\n",
        "    time.sleep(random.random())\n",
        "    return \"Done!\"\n",
        "\n",
        "timed_sleep = stopwatch(sleep_random)\n"
      ],
      "metadata": {
        "id": "yf5z7FlVRpqU"
      },
      "execution_count": 3,
      "outputs": []
    },
    {
      "cell_type": "code",
      "source": [
        "import time\n",
        "import random\n",
        "\n",
        "def stopwatch(f):\n",
        "    def func(*args, **kwargs):\n",
        "        tic = time.time()\n",
        "        result = f(*args, **kwargs)\n",
        "        print(f\"this function took: {time.time() - tic}\")\n",
        "        return result\n",
        "    return func\n",
        "\n",
        "def sleep_random(s):\n",
        "    t = s + random.random()\n",
        "    time.sleep(t)\n",
        "    return \"Done\"\n",
        "\n",
        "timed_sleep = stopwatch(sleep_random)\n"
      ],
      "metadata": {
        "id": "rOHyOFNQS7k1"
      },
      "execution_count": 4,
      "outputs": []
    },
    {
      "cell_type": "markdown",
      "source": [
        "You now have two functions that are similar, but also different."
      ],
      "metadata": {
        "id": "_up5tonjVFsO"
      }
    },
    {
      "cell_type": "code",
      "source": [
        "sleep_random(s=2)\n",
        "timed_sleep(s=2)\n"
      ],
      "metadata": {
        "colab": {
          "base_uri": "https://localhost:8080/",
          "height": 53
        },
        "id": "pGylRj6HTACL",
        "outputId": "14279bae-da49-496f-aa23-d5b569390a62"
      },
      "execution_count": 5,
      "outputs": [
        {
          "output_type": "stream",
          "name": "stdout",
          "text": [
            "this function took: 2.028829336166382\n"
          ]
        },
        {
          "output_type": "execute_result",
          "data": {
            "text/plain": [
              "'Done'"
            ],
            "application/vnd.google.colaboratory.intrinsic+json": {
              "type": "string"
            }
          },
          "metadata": {},
          "execution_count": 5
        }
      ]
    },
    {
      "cell_type": "markdown",
      "source": [
        "**decorators: decorate**"
      ],
      "metadata": {
        "id": "GHoa5JIjVNnw"
      }
    },
    {
      "cell_type": "markdown",
      "source": [
        "We've seen how functions can accept functions and output functions. Hopefully it is clear that we can use this technique to add behavior to functions.\n",
        "\n",
        "For better syntax, let's use the @ symbol to add behavior to a function."
      ],
      "metadata": {
        "id": "vrIOF3GKVQZj"
      }
    },
    {
      "cell_type": "code",
      "source": [
        "import time\n",
        "import random\n",
        "\n",
        "def stopwatch(f):\n",
        "    def func(*args, **kwargs):\n",
        "        tic = time.time()\n",
        "        result = f(*args, **kwargs)\n",
        "        print(f\"this function took: {time.time() - tic}\")\n",
        "        return result\n",
        "    return func\n",
        "\n",
        "@stopwatch\n",
        "def sleep_random(s):\n",
        "    t = s + random.random()\n",
        "    time.sleep(t)\n",
        "    return f\"Done\"\n"
      ],
      "metadata": {
        "id": "KesSN3FmTE4B"
      },
      "execution_count": 6,
      "outputs": []
    },
    {
      "cell_type": "markdown",
      "source": [
        "Note that we now no longer have two functions, both one!"
      ],
      "metadata": {
        "id": "DGQfoiOhWrkc"
      }
    },
    {
      "cell_type": "code",
      "source": [
        "sleep_random(1)\n",
        "sleep_random(2)\n",
        "sleep_random(3)\n"
      ],
      "metadata": {
        "colab": {
          "base_uri": "https://localhost:8080/",
          "height": 88
        },
        "id": "99SxtYQHTJLf",
        "outputId": "d09b751f-bd3e-4e60-c59a-16af57f9c074"
      },
      "execution_count": 7,
      "outputs": [
        {
          "output_type": "stream",
          "name": "stdout",
          "text": [
            "this function took: 1.691352367401123\n",
            "this function took: 2.3471806049346924\n",
            "this function took: 3.976558208465576\n"
          ]
        },
        {
          "output_type": "execute_result",
          "data": {
            "text/plain": [
              "'Done'"
            ],
            "application/vnd.google.colaboratory.intrinsic+json": {
              "type": "string"
            }
          },
          "metadata": {},
          "execution_count": 7
        }
      ]
    },
    {
      "cell_type": "markdown",
      "source": [
        "**decorators: wraps**"
      ],
      "metadata": {
        "id": "XdRk8NoTWv-b"
      }
    },
    {
      "cell_type": "markdown",
      "source": [
        "When we wrap a function with a decorator we might loose information from the original function. One of the things we miss out on is the docstring.\n",
        "\n",
        "Let's make sure that the docstring is kept intact by using @wraps."
      ],
      "metadata": {
        "id": "2jD-QvQNW1g2"
      }
    },
    {
      "cell_type": "code",
      "source": [
        "import time\n",
        "import random\n",
        "\n",
        "def stopwatch(f):\n",
        "    def func(*args, **kwargs):\n",
        "        tic = time.time()\n",
        "        result = f(*args, **kwargs)\n",
        "        print(f\"this function took: {time.time() - tic}\")\n",
        "        return result\n",
        "    return func\n",
        "\n",
        "@stopwatch\n",
        "def sleep_random(s):\n",
        "    \"\"\"This function sleeps at least for `s` seconds.\"\"\"\n",
        "    return time.sleep(s + random.random())\n",
        "\n",
        "timed_sleep = stopwatch(sleep_random)\n"
      ],
      "metadata": {
        "id": "RtfhbetkTPCn"
      },
      "execution_count": 8,
      "outputs": []
    },
    {
      "cell_type": "markdown",
      "source": [
        "Note that we now no longer have two functions, but one!"
      ],
      "metadata": {
        "id": "QTqXIH9RW6_i"
      }
    },
    {
      "cell_type": "code",
      "source": [
        "help(sleep_random)\n"
      ],
      "metadata": {
        "colab": {
          "base_uri": "https://localhost:8080/"
        },
        "id": "N55xjfiZTSQD",
        "outputId": "484c4398-801b-4aca-abed-130978009e51"
      },
      "execution_count": 9,
      "outputs": [
        {
          "output_type": "stream",
          "name": "stdout",
          "text": [
            "Help on function func in module __main__:\n",
            "\n",
            "func(*args, **kwargs)\n",
            "\n"
          ]
        }
      ]
    },
    {
      "cell_type": "markdown",
      "source": [
        "**decorators: stack**"
      ],
      "metadata": {
        "id": "CXs08hKyW_6D"
      }
    },
    {
      "cell_type": "markdown",
      "source": [
        "You're not limited to a single decorator in python. You can apply many if you wish!\n",
        "\n",
        "To ephesize that you can stack decorators, let's apply two new ones."
      ],
      "metadata": {
        "id": "7_SUqAaPXFb1"
      }
    },
    {
      "cell_type": "code",
      "source": [
        "import time\n",
        "import random\n",
        "from functools import wraps\n",
        "\n",
        "def print_call1(f):\n",
        "    @wraps(f)\n",
        "    def func(*args, **kwargs):\n",
        "        print(f\"print-call 1 args: {args}\")\n",
        "        result = f(*args, **kwargs)\n",
        "        return result\n",
        "    return func\n",
        "\n",
        "\n",
        "def print_call2(f):\n",
        "    @wraps(f)\n",
        "    def func(*args, **kwargs):\n",
        "        print(f\"print-call 2 args: {args}\")\n",
        "        result = f(*args, **kwargs)\n",
        "        return result\n",
        "    return func\n",
        "\n",
        "@print_call2\n",
        "@print_call1\n",
        "@print_call2\n",
        "@print_call1\n",
        "def sleep_random(s):\n",
        "    \"\"\"This function sleeps at least for `s` seconds.\"\"\"\n",
        "    return time.sleep(s + random.random()/100)\n",
        "\n",
        "sleep_random(1.5)\n"
      ],
      "metadata": {
        "colab": {
          "base_uri": "https://localhost:8080/"
        },
        "id": "1BtkY0tjTWWY",
        "outputId": "7649f6fb-f96c-4d78-8f67-c47769d65990"
      },
      "execution_count": 10,
      "outputs": [
        {
          "output_type": "stream",
          "name": "stdout",
          "text": [
            "print-call 2 args: (1.5,)\n",
            "print-call 1 args: (1.5,)\n",
            "print-call 2 args: (1.5,)\n",
            "print-call 1 args: (1.5,)\n"
          ]
        }
      ]
    },
    {
      "cell_type": "markdown",
      "source": [
        "**decorators: inputs**"
      ],
      "metadata": {
        "id": "_idO4vkXXMAC"
      }
    },
    {
      "cell_type": "markdown",
      "source": [
        "We can also have decorators that accept inputs. This makes for even more expressiveness. You do need to pay attention when you're declaring them though.\n",
        "\n",
        "The example below gives a full demonstration."
      ],
      "metadata": {
        "id": "Rkvd5JESXSHW"
      }
    },
    {
      "cell_type": "code",
      "source": [
        "import time\n",
        "import random\n",
        "from functools import wraps\n",
        "\n",
        "def loggg(show_name=True, show_time=True):\n",
        "    def stopwatch(f):\n",
        "        @wraps(f)\n",
        "        def func(*args, **kwargs):\n",
        "            tic = time.time()\n",
        "            result = f(*args, **kwargs)\n",
        "            log_text = \"call\"\n",
        "            if show_name:\n",
        "                log_text = f\"{log_text} {f.__name__}\"\n",
        "            if show_time:\n",
        "                log_text = f\"{log_text} time:{time.time() - tic}\"\n",
        "            print(log_text)\n",
        "            return result\n",
        "        return func\n",
        "    return stopwatch\n",
        "\n",
        "@loggg(show_name=False, show_time=True)\n",
        "def sleep_random(s):\n",
        "    \"\"\"This function sleeps at least for `s` seconds.\"\"\"\n",
        "    return time.sleep(s + random.random()/100)\n",
        "\n",
        "sleep_random(1)\n"
      ],
      "metadata": {
        "colab": {
          "base_uri": "https://localhost:8080/"
        },
        "id": "SQqEM3myTeWW",
        "outputId": "0987160e-bb42-45b0-84f2-2f6a6e4fdb54"
      },
      "execution_count": 11,
      "outputs": [
        {
          "output_type": "stream",
          "name": "stdout",
          "text": [
            "call time:1.0099332332611084\n"
          ]
        }
      ]
    },
    {
      "cell_type": "markdown",
      "source": [
        "To make inputs optional, we need to do something nitty-gritty. We need to make sure that if no inputs are given, the decorated function is still able to run. The code below shows you how you might get that to work."
      ],
      "metadata": {
        "id": "DX2aO656XZJd"
      }
    },
    {
      "cell_type": "code",
      "source": [
        "import time\n",
        "import random\n",
        "from functools import wraps\n",
        "\n",
        "def loggg(func_in=None, *, show_name=True, show_time=True):\n",
        "    def stopwatch(f):\n",
        "        @wraps(f)\n",
        "        def func(*args, **kwargs):\n",
        "            tic = time.time()\n",
        "            result = f(*args, **kwargs)\n",
        "            result = \"call\"\n",
        "            if show_name:\n",
        "                result = f\"{result} {f.__name__}\"\n",
        "            if show_time:\n",
        "                result = f\"{result} time:{time.time() - tic}\"\n",
        "            return result\n",
        "        return func\n",
        "\n",
        "    # This is where the \"magic\" happens.\n",
        "    if func_in is None:\n",
        "        return stopwatch\n",
        "    else:\n",
        "        return stopwatch(func_in)\n",
        "\n",
        "@loggg\n",
        "def sleep_random(s):\n",
        "    \"\"\"This function sleeps at least for `s` seconds.\"\"\"\n",
        "    return time.sleep(s + random.random()/100)\n",
        "\n",
        "sleep_random(1)\n"
      ],
      "metadata": {
        "colab": {
          "base_uri": "https://localhost:8080/",
          "height": 36
        },
        "id": "744BMaz3Tg5g",
        "outputId": "24112732-23ca-4bae-94b4-b4b01333ae58"
      },
      "execution_count": 12,
      "outputs": [
        {
          "output_type": "execute_result",
          "data": {
            "text/plain": [
              "'call sleep_random time:1.0027365684509277'"
            ],
            "application/vnd.google.colaboratory.intrinsic+json": {
              "type": "string"
            }
          },
          "metadata": {},
          "execution_count": 12
        }
      ]
    },
    {
      "cell_type": "code",
      "source": [
        "from functools import wraps\n",
        "import datetime as dt\n",
        "\n",
        "def log_step(func):\n",
        "    @wraps(func)\n",
        "    def wrapper(*args, **kwargs):\n",
        "        tic = dt.datetime.now()\n",
        "        result = func(*args, **kwargs)\n",
        "        time_taken = str(dt.datetime.now() - tic)\n",
        "        print(f\"just ran step {func.__name__} shape={result.shape} took {time_taken}s\")\n",
        "        return result\n",
        "    return wrapper\n"
      ],
      "metadata": {
        "id": "VsvMYAdRTmcK"
      },
      "execution_count": 13,
      "outputs": []
    }
  ]
}